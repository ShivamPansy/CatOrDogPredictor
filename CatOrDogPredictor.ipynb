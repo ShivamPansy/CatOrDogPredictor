{
 "cells": [
  {
   "cell_type": "markdown",
   "metadata": {
    "id": "3DR-eO17geWu"
   },
   "source": [
    "# Convolutional Neural Network"
   ]
  },
  {
   "cell_type": "markdown",
   "metadata": {
    "id": "EMefrVPCg-60"
   },
   "source": [
    "### Importing the libraries"
   ]
  },
  {
   "cell_type": "code",
   "execution_count": 1,
   "metadata": {
    "id": "sCV30xyVhFbE"
   },
   "outputs": [],
   "source": [
    "import tensorflow as tf\n",
    "from keras.preprocessing.image import ImageDataGenerator"
   ]
  },
  {
   "cell_type": "code",
   "execution_count": 2,
   "metadata": {
    "colab": {
     "base_uri": "https://localhost:8080/",
     "height": 35
    },
    "id": "-SAL9bGrmhcN",
    "outputId": "b6e6b065-b366-4f79-e9e8-f8501b6eb33d"
   },
   "outputs": [
    {
     "data": {
      "text/plain": [
       "'2.4.1'"
      ]
     },
     "execution_count": 2,
     "metadata": {},
     "output_type": "execute_result"
    }
   ],
   "source": [
    "tf.__version__"
   ]
  },
  {
   "cell_type": "markdown",
   "metadata": {
    "id": "oxQxCBWyoGPE"
   },
   "source": [
    "## Part 1 - Data Preprocessing"
   ]
  },
  {
   "cell_type": "markdown",
   "metadata": {
    "id": "MvE-heJNo3GG"
   },
   "source": [
    "### Preprocessing the Training set"
   ]
  },
  {
   "cell_type": "code",
   "execution_count": 3,
   "metadata": {
    "colab": {
     "base_uri": "https://localhost:8080/",
     "height": 370
    },
    "id": "VK4i9RzrmqMl",
    "outputId": "91640ace-eba3-415a-c767-9962c0276c32"
   },
   "outputs": [
    {
     "name": "stdout",
     "output_type": "stream",
     "text": [
      "Found 8000 images belonging to 2 classes.\n"
     ]
    }
   ],
   "source": [
    "train_datagen = ImageDataGenerator(\n",
    "        rescale=1./255,\n",
    "        shear_range=0.2,\n",
    "        zoom_range=0.2,\n",
    "        horizontal_flip=True)\n",
    "training_set = train_datagen.flow_from_directory(\n",
    "        'dataset/training_set',\n",
    "        target_size=(64, 64),\n",
    "        batch_size=32,\n",
    "        class_mode='binary')"
   ]
  },
  {
   "cell_type": "markdown",
   "metadata": {
    "id": "mrCMmGw9pHys"
   },
   "source": [
    "### Preprocessing the Test set"
   ]
  },
  {
   "cell_type": "code",
   "execution_count": 4,
   "metadata": {
    "id": "s5doNjc4phj-"
   },
   "outputs": [
    {
     "name": "stdout",
     "output_type": "stream",
     "text": [
      "Found 2000 images belonging to 2 classes.\n"
     ]
    }
   ],
   "source": [
    "test_datagen = ImageDataGenerator(rescale=1./255)\n",
    "test_set = test_datagen.flow_from_directory(\n",
    "        'dataset/test_set',\n",
    "        target_size=(64, 64),\n",
    "        batch_size=32,\n",
    "        class_mode='binary')"
   ]
  },
  {
   "cell_type": "markdown",
   "metadata": {
    "id": "af8O4l90gk7B"
   },
   "source": [
    "## Part 2 - Building the CNN"
   ]
  },
  {
   "cell_type": "markdown",
   "metadata": {
    "id": "ces1gXY2lmoX"
   },
   "source": [
    "### Initialising the CNN"
   ]
  },
  {
   "cell_type": "code",
   "execution_count": 5,
   "metadata": {
    "id": "wfYdtf8ruiI4"
   },
   "outputs": [],
   "source": [
    "cnn = tf.keras.models.Sequential()"
   ]
  },
  {
   "cell_type": "markdown",
   "metadata": {
    "id": "u5YJj_XMl5LF"
   },
   "source": [
    "### Step 1 - Convolution"
   ]
  },
  {
   "cell_type": "code",
   "execution_count": 6,
   "metadata": {
    "id": "sQ30rhA3umQc"
   },
   "outputs": [],
   "source": [
    "cnn.add(tf.keras.layers.Conv2D(filters=32,kernel_size=3, activation=\"relu\", input_shape=[64,64,3]))"
   ]
  },
  {
   "cell_type": "markdown",
   "metadata": {
    "id": "tf87FpvxmNOJ"
   },
   "source": [
    "### Step 2 - Pooling"
   ]
  },
  {
   "cell_type": "code",
   "execution_count": 7,
   "metadata": {
    "id": "LQuzao74vm9o"
   },
   "outputs": [],
   "source": [
    "cnn.add(tf.keras.layers.MaxPool2D(pool_size = 2, strides = 2))"
   ]
  },
  {
   "cell_type": "markdown",
   "metadata": {
    "id": "xaTOgD8rm4mU"
   },
   "source": [
    "### Adding a second convolutional layer"
   ]
  },
  {
   "cell_type": "code",
   "execution_count": 9,
   "metadata": {
    "id": "HDmnh5k0wNcV"
   },
   "outputs": [],
   "source": [
    "cnn.add(tf.keras.layers.Conv2D(filters=32,kernel_size=3, activation=\"relu\"))\n",
    "cnn.add(tf.keras.layers.MaxPool2D(pool_size = 2, strides = 2))\n"
   ]
  },
  {
   "cell_type": "markdown",
   "metadata": {
    "id": "tmiEuvTunKfk"
   },
   "source": [
    "### Step 3 - Flattening"
   ]
  },
  {
   "cell_type": "code",
   "execution_count": 10,
   "metadata": {
    "id": "ldcDEqycwv3a"
   },
   "outputs": [],
   "source": [
    "cnn.add(tf.keras.layers.Flatten())"
   ]
  },
  {
   "cell_type": "markdown",
   "metadata": {
    "id": "dAoSECOm203v"
   },
   "source": [
    "### Step 4 - Full Connection"
   ]
  },
  {
   "cell_type": "code",
   "execution_count": 11,
   "metadata": {
    "id": "gtw50qxLw6i7"
   },
   "outputs": [],
   "source": [
    "cnn.add(tf.keras.layers.Dense(units = 128, activation = \"relu\"))"
   ]
  },
  {
   "cell_type": "markdown",
   "metadata": {
    "id": "yTldFvbX28Na"
   },
   "source": [
    "### Step 5 - Output Layer"
   ]
  },
  {
   "cell_type": "code",
   "execution_count": 12,
   "metadata": {
    "id": "ZmYEtrVExhL_"
   },
   "outputs": [],
   "source": [
    "cnn.add(tf.keras.layers.Dense(units = 1, activation = \"sigmoid\"))"
   ]
  },
  {
   "cell_type": "markdown",
   "metadata": {
    "id": "D6XkI90snSDl"
   },
   "source": [
    "## Part 3 - Training the CNN"
   ]
  },
  {
   "cell_type": "markdown",
   "metadata": {
    "id": "vfrFQACEnc6i"
   },
   "source": [
    "### Compiling the CNN"
   ]
  },
  {
   "cell_type": "code",
   "execution_count": 13,
   "metadata": {
    "id": "l2eyx3gBy8X_"
   },
   "outputs": [],
   "source": [
    "cnn.compile(optimizer=\"adam\",loss=\"binary_crossentropy\",metrics=[\"accuracy\"])"
   ]
  },
  {
   "cell_type": "markdown",
   "metadata": {
    "id": "ehS-v3MIpX2h"
   },
   "source": [
    "### Training the CNN on the Training set and evaluating it on the Test set"
   ]
  },
  {
   "cell_type": "code",
   "execution_count": 14,
   "metadata": {
    "id": "f90uFjoVzfvx"
   },
   "outputs": [
    {
     "name": "stdout",
     "output_type": "stream",
     "text": [
      "Epoch 1/25\n",
      "250/250 [==============================] - 316s 1s/step - loss: 0.6883 - accuracy: 0.5433 - val_loss: 0.6164 - val_accuracy: 0.6690\n",
      "Epoch 2/25\n",
      "250/250 [==============================] - 70s 279ms/step - loss: 0.6100 - accuracy: 0.6700 - val_loss: 0.5751 - val_accuracy: 0.6965\n",
      "Epoch 3/25\n",
      "250/250 [==============================] - 62s 249ms/step - loss: 0.5556 - accuracy: 0.7093 - val_loss: 0.5134 - val_accuracy: 0.7590\n",
      "Epoch 4/25\n",
      "250/250 [==============================] - 58s 232ms/step - loss: 0.5142 - accuracy: 0.7496 - val_loss: 0.5294 - val_accuracy: 0.7440\n",
      "Epoch 5/25\n",
      "250/250 [==============================] - 66s 263ms/step - loss: 0.4915 - accuracy: 0.7615 - val_loss: 0.5015 - val_accuracy: 0.7665\n",
      "Epoch 6/25\n",
      "250/250 [==============================] - 67s 266ms/step - loss: 0.4718 - accuracy: 0.7725 - val_loss: 0.4662 - val_accuracy: 0.7905\n",
      "Epoch 7/25\n",
      "250/250 [==============================] - 70s 279ms/step - loss: 0.4558 - accuracy: 0.7850 - val_loss: 0.4739 - val_accuracy: 0.7835\n",
      "Epoch 8/25\n",
      "250/250 [==============================] - 62s 248ms/step - loss: 0.4380 - accuracy: 0.7944 - val_loss: 0.4553 - val_accuracy: 0.7880\n",
      "Epoch 9/25\n",
      "250/250 [==============================] - 63s 251ms/step - loss: 0.4274 - accuracy: 0.8008 - val_loss: 0.4759 - val_accuracy: 0.7745\n",
      "Epoch 10/25\n",
      "250/250 [==============================] - 62s 247ms/step - loss: 0.4083 - accuracy: 0.8136 - val_loss: 0.4570 - val_accuracy: 0.7955\n",
      "Epoch 11/25\n",
      "250/250 [==============================] - 54s 216ms/step - loss: 0.4051 - accuracy: 0.8102 - val_loss: 0.4694 - val_accuracy: 0.7990\n",
      "Epoch 12/25\n",
      "250/250 [==============================] - 56s 223ms/step - loss: 0.3912 - accuracy: 0.8150 - val_loss: 0.4959 - val_accuracy: 0.7765\n",
      "Epoch 13/25\n",
      "250/250 [==============================] - 65s 259ms/step - loss: 0.3840 - accuracy: 0.8216 - val_loss: 0.4908 - val_accuracy: 0.7780\n",
      "Epoch 14/25\n",
      "250/250 [==============================] - 80s 321ms/step - loss: 0.3593 - accuracy: 0.8428 - val_loss: 0.4679 - val_accuracy: 0.7985\n",
      "Epoch 15/25\n",
      "250/250 [==============================] - 64s 254ms/step - loss: 0.3605 - accuracy: 0.8308 - val_loss: 0.4881 - val_accuracy: 0.8070\n",
      "Epoch 16/25\n",
      "250/250 [==============================] - 55s 219ms/step - loss: 0.3389 - accuracy: 0.8431 - val_loss: 0.4529 - val_accuracy: 0.8095\n",
      "Epoch 17/25\n",
      "250/250 [==============================] - 54s 217ms/step - loss: 0.3300 - accuracy: 0.8520 - val_loss: 0.4473 - val_accuracy: 0.8080\n",
      "Epoch 18/25\n",
      "250/250 [==============================] - 54s 216ms/step - loss: 0.3233 - accuracy: 0.8518 - val_loss: 0.4722 - val_accuracy: 0.7945\n",
      "Epoch 19/25\n",
      "250/250 [==============================] - 54s 216ms/step - loss: 0.3122 - accuracy: 0.8681 - val_loss: 0.4575 - val_accuracy: 0.8010\n",
      "Epoch 20/25\n",
      "250/250 [==============================] - 54s 216ms/step - loss: 0.2935 - accuracy: 0.8756 - val_loss: 0.4930 - val_accuracy: 0.8000\n",
      "Epoch 21/25\n",
      "250/250 [==============================] - 54s 217ms/step - loss: 0.2928 - accuracy: 0.8756 - val_loss: 0.4734 - val_accuracy: 0.8085\n",
      "Epoch 22/25\n",
      "250/250 [==============================] - 54s 216ms/step - loss: 0.2853 - accuracy: 0.8756 - val_loss: 0.4717 - val_accuracy: 0.8140\n",
      "Epoch 23/25\n",
      "250/250 [==============================] - 60s 239ms/step - loss: 0.2740 - accuracy: 0.8846 - val_loss: 0.5037 - val_accuracy: 0.8105\n",
      "Epoch 24/25\n",
      "250/250 [==============================] - 58s 231ms/step - loss: 0.2495 - accuracy: 0.8929 - val_loss: 0.5597 - val_accuracy: 0.7985\n",
      "Epoch 25/25\n",
      "250/250 [==============================] - 53s 213ms/step - loss: 0.2602 - accuracy: 0.8908 - val_loss: 0.5286 - val_accuracy: 0.7970\n"
     ]
    },
    {
     "data": {
      "text/plain": [
       "<tensorflow.python.keras.callbacks.History at 0x268f7826948>"
      ]
     },
     "execution_count": 14,
     "metadata": {},
     "output_type": "execute_result"
    }
   ],
   "source": [
    "cnn.fit(x=training_set,validation_data = test_set, epochs = 25)"
   ]
  },
  {
   "cell_type": "markdown",
   "metadata": {
    "id": "U3PZasO0006Z"
   },
   "source": [
    "## Part 4 - Making a single prediction"
   ]
  },
  {
   "cell_type": "code",
   "execution_count": 17,
   "metadata": {
    "id": "pbt17SOB6UhI"
   },
   "outputs": [
    {
     "name": "stdout",
     "output_type": "stream",
     "text": [
      "cat\n"
     ]
    }
   ],
   "source": [
    "import numpy as np\n",
    "from keras.preprocessing import image\n",
    "test_image = image.load_img('dataset/single_prediction/cat.4820.jpg', target_size=(64, 64))\n",
    "test_image = image.img_to_array(test_image)\n",
    "test_image = np.expand_dims(test_image, axis=0)\n",
    "result = cnn.predict(test_image/255.0)\n",
    "training_set.class_indices\n",
    "if(result[0][0]>0.5):\n",
    "  prediction=\"dog\"\n",
    "else:\n",
    "  prediction=\"cat\"\n",
    "\n",
    "print(prediction)"
   ]
  },
  {
   "cell_type": "code",
   "execution_count": null,
   "metadata": {},
   "outputs": [],
   "source": []
  }
 ],
 "metadata": {
  "colab": {
   "collapsed_sections": [],
   "name": "Copy of convolutional_neural_network.ipynb",
   "provenance": [],
   "toc_visible": true
  },
  "kernelspec": {
   "display_name": "Python 3",
   "language": "python",
   "name": "python3"
  },
  "language_info": {
   "codemirror_mode": {
    "name": "ipython",
    "version": 3
   },
   "file_extension": ".py",
   "mimetype": "text/x-python",
   "name": "python",
   "nbconvert_exporter": "python",
   "pygments_lexer": "ipython3",
   "version": "3.7.4"
  }
 },
 "nbformat": 4,
 "nbformat_minor": 1
}
